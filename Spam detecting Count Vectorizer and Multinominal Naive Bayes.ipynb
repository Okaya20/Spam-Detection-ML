{
 "cells": [
  {
   "cell_type": "code",
   "execution_count": 1,
   "id": "9d846edb",
   "metadata": {},
   "outputs": [],
   "source": [
    "import pandas as pd\n",
    "import numpy as np\n",
    "import matplotlib.pyplot as plt\n",
    "import re\n",
    "from sklearn.feature_extraction.text import CountVectorizer\n",
    "from sklearn.naive_bayes import MultinomialNB\n",
    "from sklearn.model_selection import train_test_split\n",
    "from sklearn.metrics import plot_confusion_matrix\n",
    "from sklearn.metrics import confusion_matrix\n",
    "import seaborn as sns\n"
   ]
  },
  {
   "cell_type": "code",
   "execution_count": 2,
   "id": "b8eeca49",
   "metadata": {},
   "outputs": [],
   "source": [
    "x = \"\"\"     Ben Bunu Biliyorum biraz da şunu konuşalım\n",
    "\n",
    "                                                         \n",
    "\n",
    "Lam lam alm gelmedi   aldı Seni O da gelmedi yar\n",
    "Lam lam alm   gelmedi aldı Seni O da gelmedi  yar\n",
    "Lam lam alm gelmedi   aldı Seni O da gelmedi yar   \"\"\"  #Sorry about my \"poetics\" i coulndt figure out something better "
   ]
  },
  {
   "cell_type": "code",
   "execution_count": 30,
   "id": "8b93c2d8",
   "metadata": {},
   "outputs": [
    {
     "data": {
      "text/plain": [
       "' Ben Bunu Biliyorum biraz da şunu konuşalım Lam lam alm gelmedi aldı Seni O da gelmedi yar Lam lam alm gelmedi aldı Seni O da gelmedi yar Lam lam alm gelmedi aldı Seni O da gelmedi yar '"
      ]
     },
     "execution_count": 30,
     "metadata": {},
     "output_type": "execute_result"
    }
   ],
   "source": [
    "stringg = x\n",
    "\" \".join(re.split(\"\\s+\", stringg, flags=re.UNICODE)) #with this way eliminating white spaces and lines"
   ]
  },
  {
   "cell_type": "code",
   "execution_count": 3,
   "id": "5ed6fbc4",
   "metadata": {},
   "outputs": [
    {
     "data": {
      "text/html": [
       "<div>\n",
       "<style scoped>\n",
       "    .dataframe tbody tr th:only-of-type {\n",
       "        vertical-align: middle;\n",
       "    }\n",
       "\n",
       "    .dataframe tbody tr th {\n",
       "        vertical-align: top;\n",
       "    }\n",
       "\n",
       "    .dataframe thead th {\n",
       "        text-align: right;\n",
       "    }\n",
       "</style>\n",
       "<table border=\"1\" class=\"dataframe\">\n",
       "  <thead>\n",
       "    <tr style=\"text-align: right;\">\n",
       "      <th></th>\n",
       "      <th>class</th>\n",
       "      <th>message</th>\n",
       "      <th>Unnamed: 2</th>\n",
       "      <th>Unnamed: 3</th>\n",
       "      <th>Unnamed: 4</th>\n",
       "    </tr>\n",
       "  </thead>\n",
       "  <tbody>\n",
       "    <tr>\n",
       "      <th>0</th>\n",
       "      <td>ham</td>\n",
       "      <td>Go until jurong point, crazy.. Available only ...</td>\n",
       "      <td>NaN</td>\n",
       "      <td>NaN</td>\n",
       "      <td>NaN</td>\n",
       "    </tr>\n",
       "    <tr>\n",
       "      <th>1</th>\n",
       "      <td>ham</td>\n",
       "      <td>Ok lar... Joking wif u oni...</td>\n",
       "      <td>NaN</td>\n",
       "      <td>NaN</td>\n",
       "      <td>NaN</td>\n",
       "    </tr>\n",
       "    <tr>\n",
       "      <th>2</th>\n",
       "      <td>spam</td>\n",
       "      <td>Free entry in 2 a wkly comp to win FA Cup fina...</td>\n",
       "      <td>NaN</td>\n",
       "      <td>NaN</td>\n",
       "      <td>NaN</td>\n",
       "    </tr>\n",
       "    <tr>\n",
       "      <th>3</th>\n",
       "      <td>ham</td>\n",
       "      <td>U dun say so early hor... U c already then say...</td>\n",
       "      <td>NaN</td>\n",
       "      <td>NaN</td>\n",
       "      <td>NaN</td>\n",
       "    </tr>\n",
       "  </tbody>\n",
       "</table>\n",
       "</div>"
      ],
      "text/plain": [
       "  class                                            message Unnamed: 2  \\\n",
       "0   ham  Go until jurong point, crazy.. Available only ...        NaN   \n",
       "1   ham                      Ok lar... Joking wif u oni...        NaN   \n",
       "2  spam  Free entry in 2 a wkly comp to win FA Cup fina...        NaN   \n",
       "3   ham  U dun say so early hor... U c already then say...        NaN   \n",
       "\n",
       "  Unnamed: 3 Unnamed: 4  \n",
       "0        NaN        NaN  \n",
       "1        NaN        NaN  \n",
       "2        NaN        NaN  \n",
       "3        NaN        NaN  "
      ]
     },
     "execution_count": 3,
     "metadata": {},
     "output_type": "execute_result"
    }
   ],
   "source": [
    "data = pd.read_csv(\"https://raw.githubusercontent.com/amankharwal/SMS-Spam-Detection/master/spam.csv\", encoding= 'latin-1')\n",
    "data.head(4)\n"
   ]
  },
  {
   "cell_type": "code",
   "execution_count": 122,
   "id": "f2fc456a",
   "metadata": {},
   "outputs": [],
   "source": [
    "class detectspamstrict(object):\n",
    "    \n",
    "    def fit_str(self,stringg:str):   #In the end i have learned that column vectorizer figures this one out but for using strict this needed\n",
    "        stringg = stringg.lower() \n",
    "        self.arr= np.array(\" \".join(re.split(\"\\s+\", stringg, flags=re.UNICODE)).split())\n",
    "        return self.arr\n",
    "    \n",
    "    def fit_array(self,array:np.array): #this also not very necessary, at least last part is called at Predict\n",
    "        length = array.size\n",
    "        for a in range(length):\n",
    "            array[a] = array[a].lower()\n",
    "            array[a] =\" \".join(re.split(\"\\s+\", array[a], flags=re.UNICODE))\n",
    "        array = self.cv.transform(array)\n",
    "        return array\n",
    "    \n",
    "    def strict(self,keyss,returncount=True): #If you just want to filter with some keys that you need to provide this works\n",
    "        self.keyss = np.array([keyss[a].lower() for a in range(len(keyss))])\n",
    "        ll=[]\n",
    "        for a in range(self.keyss.size):\n",
    "            amount=np.where(self.keyss[a] == self.arr)[0].size\n",
    "            ll.append((keyss[a],amount))\n",
    "        if sum(dict(ll).values()) !=0 and returncount:\n",
    "            return \"spam\",dict(ll)\n",
    "        elif sum(dict(ll).values()) !=0:\n",
    "            return \"spam\"\n",
    "        else:\n",
    "            return \"Not Spam\"\n",
    "    def processDataFrame(self,data,label1:str,label2:str): # If you want to train model and you only have a dataframe\n",
    "        \n",
    "\n",
    "        data2=data.copy()\n",
    "        data2[label1+\" processed\"] =data2[label1].apply(lambda x: \" \".join(self.fit_str(x)))\n",
    "        self.data2 = data2\n",
    "        self.label1 = label1\n",
    "        self.label2 = label2\n",
    "        self.x=np.array(self.data2[self.label1])\n",
    "        self.y=np.array(self.data2[self.label2])\n",
    "        \n",
    "    def model_train_test_build(self,y = None,x=None): #if you have x and y just use this one\n",
    "        if x == None:\n",
    "            x = self.x\n",
    "        else:\n",
    "            x = x\n",
    "        if y ==None:\n",
    "            y = self.y\n",
    "        else:\n",
    "            y  = y\n",
    "            \n",
    "        self.cv = CountVectorizer()\n",
    "        self.clf = MultinomialNB()\n",
    "        X_train, X_test, y_train, y_test = train_test_split(x, y, test_size=0.3,stratify = y ,random_state=42)\n",
    "        X_train =self.cv.fit_transform(X_train)\n",
    "        X_test = self.cv.transform(X_test)\n",
    "        self.clf.fit(X_train,y_train)\n",
    "        pred = self.clf.predict(X_test)\n",
    "        self.matrix=confusion_matrix(y_test,pred)\n",
    "        sns.set(font_scale=1.5)\n",
    "        fig, ax = plt.subplots(figsize=(3, 3))\n",
    "        ax = sns.heatmap(self.matrix,\n",
    "                     annot=True,\n",
    "                     cbar=False)\n",
    "        plt.xlabel(\"Predicted label\")\n",
    "        plt.ylabel(\"True label\")\n",
    "        print(\"Accuracy : \",sum(pred==y_test)/y_test.size)\n",
    "        \n",
    "    def Predict(self,inp=None):  #After all steps use this, you may just give an string or a array of strings\n",
    "    \n",
    "        if inp is None:\n",
    "            inp = str(input())\n",
    "\n",
    "        \n",
    "        if type(inp) == str:\n",
    "            inp = np.array([\" \".join((self.fit_str(inp)))])\n",
    "            inp = self.cv.transform(inp)\n",
    "            return self.clf.predict(inp)\n",
    "        elif type(inp)==np.ndarray:\n",
    "            inp  = self.fit_array(inp)\n",
    "            return self.clf.predict(inp)\n",
    "        else:\n",
    "            print(\"lala\")\n",
    "            \n",
    "            \n",
    "\n"
   ]
  },
  {
   "cell_type": "code",
   "execution_count": 123,
   "id": "6ce2fba0",
   "metadata": {},
   "outputs": [
    {
     "name": "stdout",
     "output_type": "stream",
     "text": [
      "Accuracy :  0.9838516746411483\n"
     ]
    },
    {
     "data": {
      "image/png": "[encoded data removed]",
      "text/plain": [
       "<Figure size 300x300 with 1 Axes>"
      ]
     },
     "metadata": {},
     "output_type": "display_data"
    }
   ],
   "source": [
    "dtc = detectspamstrict()\n",
    "dtc.processDataFrame(data,\"message\",\"class\")\n",
    "\n",
    "dtc.model_train_test_build()\n"
   ]
  },
  {
   "cell_type": "code",
   "execution_count": 124,
   "id": "53bd1bf7",
   "metadata": {},
   "outputs": [],
   "source": [
    "sample=data.sample(10)\n",
    "xtest=sample[\"message\"].to_numpy()\n",
    "ytest=sample[\"class\"].to_numpy()"
   ]
  },
  {
   "cell_type": "code",
   "execution_count": 125,
   "id": "9a2accf0",
   "metadata": {},
   "outputs": [
    {
     "data": {
      "text/plain": [
       "array(['ham', 'spam', 'ham', 'ham', 'ham', 'ham', 'ham', 'ham', 'ham',\n",
       "       'ham'], dtype=object)"
      ]
     },
     "execution_count": 125,
     "metadata": {},
     "output_type": "execute_result"
    }
   ],
   "source": [
    "xtest\n",
    "ytest"
   ]
  },
  {
   "cell_type": "code",
   "execution_count": 126,
   "id": "ef12437c",
   "metadata": {},
   "outputs": [],
   "source": [
    "predicted=dtc.Predict(xtest)"
   ]
  },
  {
   "cell_type": "code",
   "execution_count": 127,
   "id": "3758585a",
   "metadata": {},
   "outputs": [
    {
     "data": {
      "text/plain": [
       "1.0"
      ]
     },
     "execution_count": 127,
     "metadata": {},
     "output_type": "execute_result"
    }
   ],
   "source": [
    "sum(predicted == ytest)/ytest.size"
   ]
  },
  {
   "cell_type": "markdown",
   "id": "b388906f",
   "metadata": {},
   "source": [
    "Let's try my little poem and see is it a scam or not!"
   ]
  },
  {
   "cell_type": "code",
   "execution_count": 128,
   "id": "10a9cabc",
   "metadata": {},
   "outputs": [
    {
     "data": {
      "text/plain": [
       "array(['ham'], dtype='<U4')"
      ]
     },
     "execution_count": 128,
     "metadata": {},
     "output_type": "execute_result"
    }
   ],
   "source": [
    "\n",
    "dtc.Predict(x)\n",
    "#Oh nice i am not a fraud or something"
   ]
  },
  {
   "cell_type": "code",
   "execution_count": 129,
   "id": "df46c847",
   "metadata": {},
   "outputs": [
    {
     "data": {
      "text/plain": [
       "array(['ham', 'spam', 'ham', 'ham', 'ham', 'ham', 'ham', 'ham', 'ham',\n",
       "       'ham'], dtype='<U4')"
      ]
     },
     "execution_count": 129,
     "metadata": {},
     "output_type": "execute_result"
    }
   ],
   "source": [
    "predicted"
   ]
  },
  {
   "cell_type": "code",
   "execution_count": 131,
   "id": "501a29a8",
   "metadata": {},
   "outputs": [
    {
     "name": "stdout",
     "output_type": "stream",
     "text": [
      "You have won 3000 Dollars\n"
     ]
    },
    {
     "data": {
      "text/plain": [
       "array(['spam'], dtype='<U4')"
      ]
     },
     "execution_count": 131,
     "metadata": {},
     "output_type": "execute_result"
    }
   ],
   "source": [
    "dtc.Predict()  #just give it empty\n"
   ]
  },
  {
   "cell_type": "code",
   "execution_count": null,
   "id": "103ee1f0",
   "metadata": {},
   "outputs": [],
   "source": []
  },
  {
   "cell_type": "code",
   "execution_count": null,
   "id": "5a2ea15a",
   "metadata": {},
   "outputs": [],
   "source": []
  },
  {
   "cell_type": "code",
   "execution_count": null,
   "id": "7a13a2c6",
   "metadata": {},
   "outputs": [],
   "source": []
  },
  {
   "cell_type": "code",
   "execution_count": null,
   "id": "18ffe763",
   "metadata": {},
   "outputs": [],
   "source": []
  },
  {
   "cell_type": "code",
   "execution_count": null,
   "id": "07e2de82",
   "metadata": {},
   "outputs": [],
   "source": []
  },
  {
   "cell_type": "code",
   "execution_count": null,
   "id": "1d3c483c",
   "metadata": {},
   "outputs": [],
   "source": []
  }
 ],
 "metadata": {
  "kernelspec": {
   "display_name": "Python 3 (ipykernel)",
   "language": "python",
   "name": "python3"
  },
  "language_info": {
   "codemirror_mode": {
    "name": "ipython",
    "version": 3
   },
   "file_extension": ".py",
   "mimetype": "text/x-python",
   "name": "python",
   "nbconvert_exporter": "python",
   "pygments_lexer": "ipython3",
   "version": "3.7.16"
  }
 },
 "nbformat": 4,
 "nbformat_minor": 5
}
